{
  "nbformat": 4,
  "nbformat_minor": 0,
  "metadata": {
    "colab": {
      "name": "Module7.ipynb",
      "provenance": [],
      "collapsed_sections": [],
      "authorship_tag": "ABX9TyNkZ3jKYbPydQvZbDSyOLIV",
      "include_colab_link": true
    },
    "kernelspec": {
      "name": "python3",
      "display_name": "Python 3"
    },
    "language_info": {
      "name": "python"
    }
  },
  "cells": [
    {
      "cell_type": "markdown",
      "metadata": {
        "id": "view-in-github",
        "colab_type": "text"
      },
      "source": [
        "<a href=\"https://colab.research.google.com/github/clindeman28/stc510/blob/main/Module7.ipynb\" target=\"_parent\"><img src=\"https://colab.research.google.com/assets/colab-badge.svg\" alt=\"Open In Colab\"/></a>"
      ]
    },
    {
      "cell_type": "code",
      "execution_count": 1,
      "metadata": {
        "colab": {
          "base_uri": "https://localhost:8080/"
        },
        "id": "zCHV2sntrmcZ",
        "outputId": "474c00e0-e298-42b1-87d2-922ad71a0055"
      },
      "outputs": [
        {
          "output_type": "stream",
          "name": "stdout",
          "text": [
            "Collecting praw\n",
            "  Downloading praw-7.5.0-py3-none-any.whl (176 kB)\n",
            "\u001b[?25l\r\u001b[K     |█▉                              | 10 kB 17.0 MB/s eta 0:00:01\r\u001b[K     |███▊                            | 20 kB 19.1 MB/s eta 0:00:01\r\u001b[K     |█████▋                          | 30 kB 7.9 MB/s eta 0:00:01\r\u001b[K     |███████▍                        | 40 kB 7.4 MB/s eta 0:00:01\r\u001b[K     |█████████▎                      | 51 kB 3.7 MB/s eta 0:00:01\r\u001b[K     |███████████▏                    | 61 kB 4.4 MB/s eta 0:00:01\r\u001b[K     |█████████████                   | 71 kB 4.4 MB/s eta 0:00:01\r\u001b[K     |██████████████▉                 | 81 kB 4.7 MB/s eta 0:00:01\r\u001b[K     |████████████████▊               | 92 kB 5.2 MB/s eta 0:00:01\r\u001b[K     |██████████████████▋             | 102 kB 4.4 MB/s eta 0:00:01\r\u001b[K     |████████████████████▍           | 112 kB 4.4 MB/s eta 0:00:01\r\u001b[K     |██████████████████████▎         | 122 kB 4.4 MB/s eta 0:00:01\r\u001b[K     |████████████████████████▏       | 133 kB 4.4 MB/s eta 0:00:01\r\u001b[K     |██████████████████████████      | 143 kB 4.4 MB/s eta 0:00:01\r\u001b[K     |███████████████████████████▉    | 153 kB 4.4 MB/s eta 0:00:01\r\u001b[K     |█████████████████████████████▊  | 163 kB 4.4 MB/s eta 0:00:01\r\u001b[K     |███████████████████████████████▌| 174 kB 4.4 MB/s eta 0:00:01\r\u001b[K     |████████████████████████████████| 176 kB 4.4 MB/s \n",
            "\u001b[?25hCollecting prawcore<3,>=2.1\n",
            "  Downloading prawcore-2.3.0-py3-none-any.whl (16 kB)\n",
            "Collecting update-checker>=0.18\n",
            "  Downloading update_checker-0.18.0-py3-none-any.whl (7.0 kB)\n",
            "Collecting websocket-client>=0.54.0\n",
            "  Downloading websocket_client-1.3.1-py3-none-any.whl (54 kB)\n",
            "\u001b[K     |████████████████████████████████| 54 kB 2.8 MB/s \n",
            "\u001b[?25hRequirement already satisfied: requests<3.0,>=2.6.0 in /usr/local/lib/python3.7/dist-packages (from prawcore<3,>=2.1->praw) (2.23.0)\n",
            "Requirement already satisfied: chardet<4,>=3.0.2 in /usr/local/lib/python3.7/dist-packages (from requests<3.0,>=2.6.0->prawcore<3,>=2.1->praw) (3.0.4)\n",
            "Requirement already satisfied: idna<3,>=2.5 in /usr/local/lib/python3.7/dist-packages (from requests<3.0,>=2.6.0->prawcore<3,>=2.1->praw) (2.10)\n",
            "Requirement already satisfied: certifi>=2017.4.17 in /usr/local/lib/python3.7/dist-packages (from requests<3.0,>=2.6.0->prawcore<3,>=2.1->praw) (2021.10.8)\n",
            "Requirement already satisfied: urllib3!=1.25.0,!=1.25.1,<1.26,>=1.21.1 in /usr/local/lib/python3.7/dist-packages (from requests<3.0,>=2.6.0->prawcore<3,>=2.1->praw) (1.24.3)\n",
            "Installing collected packages: websocket-client, update-checker, prawcore, praw\n",
            "Successfully installed praw-7.5.0 prawcore-2.3.0 update-checker-0.18.0 websocket-client-1.3.1\n",
            "Collecting psaw\n",
            "  Downloading psaw-0.1.0-py3-none-any.whl (15 kB)\n",
            "Requirement already satisfied: Click in /usr/local/lib/python3.7/dist-packages (from psaw) (7.1.2)\n",
            "Requirement already satisfied: requests in /usr/local/lib/python3.7/dist-packages (from psaw) (2.23.0)\n",
            "Requirement already satisfied: certifi>=2017.4.17 in /usr/local/lib/python3.7/dist-packages (from requests->psaw) (2021.10.8)\n",
            "Requirement already satisfied: chardet<4,>=3.0.2 in /usr/local/lib/python3.7/dist-packages (from requests->psaw) (3.0.4)\n",
            "Requirement already satisfied: urllib3!=1.25.0,!=1.25.1,<1.26,>=1.21.1 in /usr/local/lib/python3.7/dist-packages (from requests->psaw) (1.24.3)\n",
            "Requirement already satisfied: idna<3,>=2.5 in /usr/local/lib/python3.7/dist-packages (from requests->psaw) (2.10)\n",
            "Installing collected packages: psaw\n",
            "Successfully installed psaw-0.1.0\n"
          ]
        }
      ],
      "source": [
        "import pandas as pd\n",
        "!pip install praw\n",
        "!pip install psaw\n",
        "from psaw import PushshiftAPI\n",
        "import praw\n"
      ]
    },
    {
      "cell_type": "code",
      "source": [
        "uname = 'connorlindeman28'\n",
        "upass = 'Adrian28!'\n",
        "app_id = '5xxJZ_7qsWCC-wEi-v1DCw'\n",
        "app_secret = 'uPEmDKJfIM1JY74ZBlqG8xbz-LRpNQ'"
      ],
      "metadata": {
        "id": "fcaDu8azsM4t"
      },
      "execution_count": 2,
      "outputs": []
    },
    {
      "cell_type": "code",
      "source": [
        "reddit = praw.Reddit(user_agent =\"Starlight (by /u/connorlindeman28)\",\n",
        "                     client_id = app_id, client_secret=app_secret,\n",
        "                     username=uname, password=upass)\n",
        "api = PushshiftAPI(reddit)"
      ],
      "metadata": {
        "id": "FHHf8VnysV_s"
      },
      "execution_count": 3,
      "outputs": []
    },
    {
      "cell_type": "markdown",
      "source": [
        "So, I know this isn't really following the assignment, but my 'rq's weren't much of a research question, but rather a curiosity I have regarding Coca-Cola's newest soda, called Starlight. Coca-Cola Starlight is 'space flavored' according to Coke themselves, leaving room for lots of speculation as to what it actually tastes like. I've tried it, and have my own thoughts, but I wanted to scarpe reddit, find which words were being used to describe it, and then put in in a graph to see if I could narrow it down at all. "
      ],
      "metadata": {
        "id": "dTWJfspCFXsZ"
      }
    },
    {
      "cell_type": "code",
      "source": [
        "coke_subs = []\n",
        "search_args = {\n",
        "    'q': 'Coca-Cola Starlight',\n",
        "    'limit':2000\n",
        "\n",
        "}\n",
        "coke_subs += list(api.search_submissions(**search_args))"
      ],
      "metadata": {
        "colab": {
          "base_uri": "https://localhost:8080/"
        },
        "id": "T1wy6zAWs2X8",
        "outputId": "01cfc519-3ea2-457f-a701-ab81f439ea83"
      },
      "execution_count": 59,
      "outputs": [
        {
          "output_type": "stream",
          "name": "stderr",
          "text": [
            "/usr/local/lib/python3.7/dist-packages/psaw/PushshiftAPI.py:252: UserWarning: Not all PushShift shards are active. Query results may be incomplete\n",
            "  warnings.warn(shards_down_message)\n",
            "It appears that you are using PRAW in an asynchronous environment.\n",
            "It is strongly recommended to use Async PRAW: https://asyncpraw.readthedocs.io.\n",
            "See https://praw.readthedocs.io/en/latest/getting_started/multiple_instances.html#discord-bots-and-asynchronous-environments for more info.\n",
            "\n",
            "It appears that you are using PRAW in an asynchronous environment.\n",
            "It is strongly recommended to use Async PRAW: https://asyncpraw.readthedocs.io.\n",
            "See https://praw.readthedocs.io/en/latest/getting_started/multiple_instances.html#discord-bots-and-asynchronous-environments for more info.\n",
            "\n"
          ]
        }
      ]
    },
    {
      "cell_type": "code",
      "source": [
        "len(coke_subs)"
      ],
      "metadata": {
        "colab": {
          "base_uri": "https://localhost:8080/"
        },
        "id": "Jxy1L9j6tznZ",
        "outputId": "9beeae64-45af-4493-e9fd-5c494751b4e0"
      },
      "execution_count": 5,
      "outputs": [
        {
          "output_type": "execute_result",
          "data": {
            "text/plain": [
              "101"
            ]
          },
          "metadata": {},
          "execution_count": 5
        }
      ]
    },
    {
      "cell_type": "code",
      "source": [
        "titles = [eachsub.title for eachsub in coke_subs]"
      ],
      "metadata": {
        "id": "SDW2-T74uF_Q"
      },
      "execution_count": 60,
      "outputs": []
    },
    {
      "cell_type": "code",
      "source": [
        "body = [eachsub.selftext for eachsub in coke_subs]"
      ],
      "metadata": {
        "id": "K5JL7Wv0vJ6f"
      },
      "execution_count": 61,
      "outputs": []
    },
    {
      "cell_type": "code",
      "source": [
        "comments = [x.body for x in coke_subs[4].comments]"
      ],
      "metadata": {
        "id": "XGhpKRfWvRrF",
        "colab": {
          "base_uri": "https://localhost:8080/"
        },
        "outputId": "f257cf66-02cc-4511-f042-126ab1d4628c"
      },
      "execution_count": 62,
      "outputs": [
        {
          "output_type": "stream",
          "name": "stderr",
          "text": [
            "It appears that you are using PRAW in an asynchronous environment.\n",
            "It is strongly recommended to use Async PRAW: https://asyncpraw.readthedocs.io.\n",
            "See https://praw.readthedocs.io/en/latest/getting_started/multiple_instances.html#discord-bots-and-asynchronous-environments for more info.\n",
            "\n"
          ]
        }
      ]
    },
    {
      "cell_type": "code",
      "source": [
        "mentions = {'Title' : titles,\n",
        "            'Body':body,\n",
        "            }\n",
        "\n",
        "\n",
        " "
      ],
      "metadata": {
        "id": "2CN2YXNTwzSP"
      },
      "execution_count": 63,
      "outputs": []
    },
    {
      "cell_type": "code",
      "source": [
        "df = pd.DataFrame(mentions)"
      ],
      "metadata": {
        "id": "PNEOvLl628j1"
      },
      "execution_count": 10,
      "outputs": []
    },
    {
      "cell_type": "code",
      "source": [
        "df"
      ],
      "metadata": {
        "colab": {
          "base_uri": "https://localhost:8080/",
          "height": 423
        },
        "id": "BTrRsBG03je5",
        "outputId": "1fc1f1e0-dc02-4ba6-e036-85da13904734"
      },
      "execution_count": 11,
      "outputs": [
        {
          "output_type": "execute_result",
          "data": {
            "text/html": [
              "\n",
              "  <div id=\"df-78caaca4-3c1a-429f-b696-9c2a5901ffbf\">\n",
              "    <div class=\"colab-df-container\">\n",
              "      <div>\n",
              "<style scoped>\n",
              "    .dataframe tbody tr th:only-of-type {\n",
              "        vertical-align: middle;\n",
              "    }\n",
              "\n",
              "    .dataframe tbody tr th {\n",
              "        vertical-align: top;\n",
              "    }\n",
              "\n",
              "    .dataframe thead th {\n",
              "        text-align: right;\n",
              "    }\n",
              "</style>\n",
              "<table border=\"1\" class=\"dataframe\">\n",
              "  <thead>\n",
              "    <tr style=\"text-align: right;\">\n",
              "      <th></th>\n",
              "      <th>Title</th>\n",
              "      <th>Body</th>\n",
              "    </tr>\n",
              "  </thead>\n",
              "  <tbody>\n",
              "    <tr>\n",
              "      <th>0</th>\n",
              "      <td>Bought some Coca-Cola starlight. I'll tell you...</td>\n",
              "      <td></td>\n",
              "    </tr>\n",
              "    <tr>\n",
              "      <th>1</th>\n",
              "      <td>Anyone seen the new Coca Cola starlight flavor...</td>\n",
              "      <td>Edit: found some. Tastes like Oreos and coke</td>\n",
              "    </tr>\n",
              "    <tr>\n",
              "      <th>2</th>\n",
              "      <td>FREE Coca-Cola Starlight at Safeway</td>\n",
              "      <td></td>\n",
              "    </tr>\n",
              "    <tr>\n",
              "      <th>3</th>\n",
              "      <td>Has anyone seen Coca-Cola Starlight in stores ...</td>\n",
              "      <td>Hi, my name is timewreckoner, and I'm an addic...</td>\n",
              "    </tr>\n",
              "    <tr>\n",
              "      <th>4</th>\n",
              "      <td>Coca-Cola Starlight: All About the New Limited...</td>\n",
              "      <td></td>\n",
              "    </tr>\n",
              "    <tr>\n",
              "      <th>...</th>\n",
              "      <td>...</td>\n",
              "      <td>...</td>\n",
              "    </tr>\n",
              "    <tr>\n",
              "      <th>96</th>\n",
              "      <td>Hi everyone! LARGE DESTASH! Prices LOWERED! Je...</td>\n",
              "      <td>Hello! I am mostly interested in selling but w...</td>\n",
              "    </tr>\n",
              "    <tr>\n",
              "      <th>97</th>\n",
              "      <td>[Sell/Swap] Hi everyone! LARGE DESTASH and pri...</td>\n",
              "      <td>Hello! I am mostly interested in selling but w...</td>\n",
              "    </tr>\n",
              "    <tr>\n",
              "      <th>98</th>\n",
              "      <td>[CRIT]A novel I accidentally started writing.....</td>\n",
              "      <td>[deleted]</td>\n",
              "    </tr>\n",
              "    <tr>\n",
              "      <th>99</th>\n",
              "      <td>Pages From the Temple of Greed: Grief</td>\n",
              "      <td>I found the antidote to addiction.  \\n\\nAbstin...</td>\n",
              "    </tr>\n",
              "    <tr>\n",
              "      <th>100</th>\n",
              "      <td>Pages From the Temple of Greed: Grief</td>\n",
              "      <td>I found the antidote to addiction.  \\n\\nAbstin...</td>\n",
              "    </tr>\n",
              "  </tbody>\n",
              "</table>\n",
              "<p>101 rows × 2 columns</p>\n",
              "</div>\n",
              "      <button class=\"colab-df-convert\" onclick=\"convertToInteractive('df-78caaca4-3c1a-429f-b696-9c2a5901ffbf')\"\n",
              "              title=\"Convert this dataframe to an interactive table.\"\n",
              "              style=\"display:none;\">\n",
              "        \n",
              "  <svg xmlns=\"http://www.w3.org/2000/svg\" height=\"24px\"viewBox=\"0 0 24 24\"\n",
              "       width=\"24px\">\n",
              "    <path d=\"M0 0h24v24H0V0z\" fill=\"none\"/>\n",
              "    <path d=\"M18.56 5.44l.94 2.06.94-2.06 2.06-.94-2.06-.94-.94-2.06-.94 2.06-2.06.94zm-11 1L8.5 8.5l.94-2.06 2.06-.94-2.06-.94L8.5 2.5l-.94 2.06-2.06.94zm10 10l.94 2.06.94-2.06 2.06-.94-2.06-.94-.94-2.06-.94 2.06-2.06.94z\"/><path d=\"M17.41 7.96l-1.37-1.37c-.4-.4-.92-.59-1.43-.59-.52 0-1.04.2-1.43.59L10.3 9.45l-7.72 7.72c-.78.78-.78 2.05 0 2.83L4 21.41c.39.39.9.59 1.41.59.51 0 1.02-.2 1.41-.59l7.78-7.78 2.81-2.81c.8-.78.8-2.07 0-2.86zM5.41 20L4 18.59l7.72-7.72 1.47 1.35L5.41 20z\"/>\n",
              "  </svg>\n",
              "      </button>\n",
              "      \n",
              "  <style>\n",
              "    .colab-df-container {\n",
              "      display:flex;\n",
              "      flex-wrap:wrap;\n",
              "      gap: 12px;\n",
              "    }\n",
              "\n",
              "    .colab-df-convert {\n",
              "      background-color: #E8F0FE;\n",
              "      border: none;\n",
              "      border-radius: 50%;\n",
              "      cursor: pointer;\n",
              "      display: none;\n",
              "      fill: #1967D2;\n",
              "      height: 32px;\n",
              "      padding: 0 0 0 0;\n",
              "      width: 32px;\n",
              "    }\n",
              "\n",
              "    .colab-df-convert:hover {\n",
              "      background-color: #E2EBFA;\n",
              "      box-shadow: 0px 1px 2px rgba(60, 64, 67, 0.3), 0px 1px 3px 1px rgba(60, 64, 67, 0.15);\n",
              "      fill: #174EA6;\n",
              "    }\n",
              "\n",
              "    [theme=dark] .colab-df-convert {\n",
              "      background-color: #3B4455;\n",
              "      fill: #D2E3FC;\n",
              "    }\n",
              "\n",
              "    [theme=dark] .colab-df-convert:hover {\n",
              "      background-color: #434B5C;\n",
              "      box-shadow: 0px 1px 3px 1px rgba(0, 0, 0, 0.15);\n",
              "      filter: drop-shadow(0px 1px 2px rgba(0, 0, 0, 0.3));\n",
              "      fill: #FFFFFF;\n",
              "    }\n",
              "  </style>\n",
              "\n",
              "      <script>\n",
              "        const buttonEl =\n",
              "          document.querySelector('#df-78caaca4-3c1a-429f-b696-9c2a5901ffbf button.colab-df-convert');\n",
              "        buttonEl.style.display =\n",
              "          google.colab.kernel.accessAllowed ? 'block' : 'none';\n",
              "\n",
              "        async function convertToInteractive(key) {\n",
              "          const element = document.querySelector('#df-78caaca4-3c1a-429f-b696-9c2a5901ffbf');\n",
              "          const dataTable =\n",
              "            await google.colab.kernel.invokeFunction('convertToInteractive',\n",
              "                                                     [key], {});\n",
              "          if (!dataTable) return;\n",
              "\n",
              "          const docLinkHtml = 'Like what you see? Visit the ' +\n",
              "            '<a target=\"_blank\" href=https://colab.research.google.com/notebooks/data_table.ipynb>data table notebook</a>'\n",
              "            + ' to learn more about interactive tables.';\n",
              "          element.innerHTML = '';\n",
              "          dataTable['output_type'] = 'display_data';\n",
              "          await google.colab.output.renderOutput(dataTable, element);\n",
              "          const docLink = document.createElement('div');\n",
              "          docLink.innerHTML = docLinkHtml;\n",
              "          element.appendChild(docLink);\n",
              "        }\n",
              "      </script>\n",
              "    </div>\n",
              "  </div>\n",
              "  "
            ],
            "text/plain": [
              "                                                 Title                                               Body\n",
              "0    Bought some Coca-Cola starlight. I'll tell you...                                                   \n",
              "1    Anyone seen the new Coca Cola starlight flavor...       Edit: found some. Tastes like Oreos and coke\n",
              "2                  FREE Coca-Cola Starlight at Safeway                                                   \n",
              "3    Has anyone seen Coca-Cola Starlight in stores ...  Hi, my name is timewreckoner, and I'm an addic...\n",
              "4    Coca-Cola Starlight: All About the New Limited...                                                   \n",
              "..                                                 ...                                                ...\n",
              "96   Hi everyone! LARGE DESTASH! Prices LOWERED! Je...  Hello! I am mostly interested in selling but w...\n",
              "97   [Sell/Swap] Hi everyone! LARGE DESTASH and pri...  Hello! I am mostly interested in selling but w...\n",
              "98   [CRIT]A novel I accidentally started writing.....                                          [deleted]\n",
              "99               Pages From the Temple of Greed: Grief  I found the antidote to addiction.  \\n\\nAbstin...\n",
              "100              Pages From the Temple of Greed: Grief  I found the antidote to addiction.  \\n\\nAbstin...\n",
              "\n",
              "[101 rows x 2 columns]"
            ]
          },
          "metadata": {},
          "execution_count": 11
        }
      ]
    },
    {
      "cell_type": "code",
      "source": [
        "!pip install nltk"
      ],
      "metadata": {
        "colab": {
          "base_uri": "https://localhost:8080/"
        },
        "id": "Cu5Et1HmxHEA",
        "outputId": "eea49a6a-2a46-4ce1-cfe4-58abb574cf08"
      },
      "execution_count": 12,
      "outputs": [
        {
          "output_type": "stream",
          "name": "stdout",
          "text": [
            "Requirement already satisfied: nltk in /usr/local/lib/python3.7/dist-packages (3.2.5)\n",
            "Requirement already satisfied: six in /usr/local/lib/python3.7/dist-packages (from nltk) (1.15.0)\n"
          ]
        }
      ]
    },
    {
      "cell_type": "code",
      "source": [
        "from nltk import sent_tokenize, word_tokenize, pos_tag"
      ],
      "metadata": {
        "id": "seFaNI7WxJlB"
      },
      "execution_count": 13,
      "outputs": []
    },
    {
      "cell_type": "code",
      "source": [
        "from nltk.corpus import stopwords"
      ],
      "metadata": {
        "id": "nAV5a49ZxSGw"
      },
      "execution_count": 14,
      "outputs": []
    },
    {
      "cell_type": "code",
      "source": [
        "import nltk"
      ],
      "metadata": {
        "id": "yvEJaq-4xVMI"
      },
      "execution_count": 33,
      "outputs": []
    },
    {
      "cell_type": "code",
      "source": [
        "nltk.download('punkt')"
      ],
      "metadata": {
        "colab": {
          "base_uri": "https://localhost:8080/"
        },
        "id": "fBviY8Gj0tB4",
        "outputId": "e3adac21-b55f-4c60-9917-7bcc80f72b03"
      },
      "execution_count": 34,
      "outputs": [
        {
          "output_type": "stream",
          "name": "stdout",
          "text": [
            "[nltk_data] Downloading package punkt to /root/nltk_data...\n",
            "[nltk_data]   Unzipping tokenizers/punkt.zip.\n"
          ]
        },
        {
          "output_type": "execute_result",
          "data": {
            "text/plain": [
              "True"
            ]
          },
          "metadata": {},
          "execution_count": 34
        }
      ]
    },
    {
      "cell_type": "code",
      "source": [
        "refined_body = re.findall(r'.{100}Starlight.{200}',' '.join(body))"
      ],
      "metadata": {
        "id": "Pl-V1MPE50Qj"
      },
      "execution_count": 91,
      "outputs": []
    },
    {
      "cell_type": "code",
      "source": [
        "refined_titles = re.findall(r'.{100}Starlight.{200}',' '.join(titles))"
      ],
      "metadata": {
        "id": "yKed8H3Q6-8j"
      },
      "execution_count": 88,
      "outputs": []
    },
    {
      "cell_type": "code",
      "source": [
        "refined_titles = re.findall(r'.{100}Starlight.{200}',' '.join(titles))"
      ],
      "metadata": {
        "id": "f7cQ0O9x7Mcf"
      },
      "execution_count": 89,
      "outputs": []
    },
    {
      "cell_type": "code",
      "source": [
        "refined_titles"
      ],
      "metadata": {
        "colab": {
          "base_uri": "https://localhost:8080/"
        },
        "id": "g_pIegr_7H5J",
        "outputId": "f5cbad74-81ee-4289-9023-37e3a8427e1e"
      },
      "execution_count": 90,
      "outputs": [
        {
          "output_type": "execute_result",
          "data": {
            "text/plain": [
              "['like in the comments. Anyone seen the new Coca Cola starlight flavor around Winston? FREE Coca-Cola Starlight at Safeway Has anyone seen Coca-Cola Starlight in stores here yet? Coca-Cola Starlight: All About the New Limited-Edition Soda Got my hands on the new starlight Coca Cola, small 300ml bottles were th',\n",
              " ' It might be the Zero Sugar, but still. I do get a Cotton Candy taste from it. Free 20 oz Coca-Cola Starlight @ Pavilions & Safeway! Google Translate and the News CLXXXIII Starlight? Not So Bright Just got my Limited Edition Coca-cola Starlight kit from Sampler! I thought I was just gonna get a free coke lol',\n",
              " ' free bottle of starlight not all this awesome Coca-cola swag too!! Came with a bottle of Coca-cola Starlight, a bucket hat, sunglasses, a t-shirt, gold metal straw, and a coca-cola sticker! Coca Cola made a delivery of Starlight Coke starlight changes flavor Coca-Cola Starlight: Space Cookies Coca-Cola Star',\n",
              " ' starlight review (space coca cola) Coca-Cola Starlight Coca-Cola Starlight Got plenty of Coca-Cola Starlight over here in Cincinnati, OH Second time trying it, honestly warming up to it. How do you guys feel about Coca Cola starlight? Coka Cola Starlight review - First sip if like a bomb of flavor, like a f',\n",
              " \"few sip the Bomb of flavor turned into a little fruity hint which east favored upon. Overall I give Starlight a 86.89% score. I'm looking forward to a great future of Coca Cola Creations. Coca-Cola Starlight tastes like regular Coke with an aftertaste of Oreo filling Coca cola starlight Coca-Cola Starlight C\",\n",
              " 'ca Cola Starlight in the HRM yet? Looking to try it out. [F] Tark Picks Her Poison ep. 8: Coca-Cola Starlight Zero Sugar [Space-flavored] [I AM CONFUSION] [Tark has no indoor voice] [Pissed off] [...but I like it] [Some burps] [Some flat singing] [Laughing] [F-bombs] I’m MAD Rumors and speculation for upcomi',\n",
              " \"tions Coca-Cola Starlight Limited Edition! Have you tried it yet? Tell me what you think! Coca-Cola Starlight: A New Flavour That's Out Of This World. Will it hit shelves all over the world? Coca-Cola Starlight: A New Flavour That's Out Of This World. Will it hit shelves all over the globe? Coca-cola Starlig\",\n",
              " 'ght Limited Edition Review (Space Flavored) Coca-Cola Reveals New, Limited-Edition \"Space Flavored\\' Starlight Cola Coca-cola Starlight Google Translate and the News CLXXVIII Theory: Coke Starlight is actually a few different flavors with the same label? Coca Cola Starlight is awful. My take on Coca Cola Star',\n",
              " 'avor inspired by New Coca-Cola starlight 🌟 New Coca-Cola starlight 🌟 Has Anyone Found The Coca Cola Starlight? If so, How is it? Coca Cola Starlight out early at cross timbers and 45N walmart Coca-Cola Starlight in Canada Coca-Cola zero sugar starlight review new Coca-Cola￼ flavor for 2022 is it any good we ',\n",
              " 'kind-flavor-inspired-by-space $KO + Coca-Cola is working to expand into youth market * releases new Starlight flavor Coca-Cola introduces a limited-edition first-of-its-kind flavor next week - Starlight Coca-Cola introduces a first-of-its-kind flavor, Starlight, a new limited-edition version of the classic s',\n",
              " 'day. New Coca-Cola starlight Friend found this for me today. New Coca-Cola starlight Will Coca Cola Starlight be available in Quebec? Coca-Cola launches new space-themed drink, \"Starlight\". KO is Berkshire\\'s third-largest common stock holding. Berkshire owns 9.5% of Coke with a cost basis of $3.25 per KO sha',\n",
              " 'e with a cost basis of $3.25 per KO share : Coca-Cola to launch its first limited-edition beverage, Starlight : Coca-Cola to launch its first limited-edition beverage, Starlight Coca-Cola starlight review new Coca-Cola flavor Is it any good well you’re about to find out Coca-Cola starlight review new Coca-Co',\n",
              " 'a-Cola starlight review new Coca-Cola flavor Is it any good well you’re about to find out Coca-Cola Starlight Launching February 21 | Coca-Cola Creations Hub New Coca-Cola Starlight and Starlight Zero Sugar Coca-Cola Starlight Zero Sugar Coca Cola Starlight & Starlight Zero 7.5oz mini cans. These are the fir',\n",
              " \"s (Autumn Part I + II) ⚗️💙🍁🎃 I haven't seen any tweets or anything on their website about Coca Cola Starlight. If they made a new flavor, you think they be posting it online Coca Cola Starlight Coca Cola Starlight coming next month! More drinks to follow! Coca Cola Starlight releases next Month! More New Dri\",\n",
              " \"one that's set to be released. I need it now!!!!! Parking Lot in the Clouds New for 2022; Coca-Cola Starlight. Limited time flavor, includes both Full Sugar & Zero Sugar options. Xerf Xpec Master List Archive 201212 LOONA [12:00] Release: Orbit Ring Fansign #12 Roundup Theory on the deep The Fresca Theory an\"]"
            ]
          },
          "metadata": {},
          "execution_count": 90
        }
      ]
    },
    {
      "cell_type": "code",
      "source": [
        "import json\n"
      ],
      "metadata": {
        "id": "Lfg0in1s-ZVI"
      },
      "execution_count": 92,
      "outputs": []
    },
    {
      "cell_type": "code",
      "source": [
        "result = json.dumps(refined_titles)"
      ],
      "metadata": {
        "id": "f6XDggK2-aha"
      },
      "execution_count": 93,
      "outputs": []
    },
    {
      "cell_type": "code",
      "source": [
        "results = json.dumps(refined_body)"
      ],
      "metadata": {
        "id": "_r8pYBrG-rTm"
      },
      "execution_count": 96,
      "outputs": []
    },
    {
      "cell_type": "code",
      "source": [
        "result"
      ],
      "metadata": {
        "colab": {
          "base_uri": "https://localhost:8080/",
          "height": 139
        },
        "id": "W3QYSoMv-hmS",
        "outputId": "7cb5f60b-1437-4c05-ed7d-1863ec00e9f3"
      },
      "execution_count": 94,
      "outputs": [
        {
          "output_type": "execute_result",
          "data": {
            "application/vnd.google.colaboratory.intrinsic+json": {
              "type": "string"
            },
            "text/plain": [
              "'[\"like in the comments. Anyone seen the new Coca Cola starlight flavor around Winston? FREE Coca-Cola Starlight at Safeway Has anyone seen Coca-Cola Starlight in stores here yet? Coca-Cola Starlight: All About the New Limited-Edition Soda Got my hands on the new starlight Coca Cola, small 300ml bottles were th\", \" It might be the Zero Sugar, but still. I do get a Cotton Candy taste from it. Free 20 oz Coca-Cola Starlight @ Pavilions & Safeway! Google Translate and the News CLXXXIII Starlight? Not So Bright Just got my Limited Edition Coca-cola Starlight kit from Sampler! I thought I was just gonna get a free coke lol\", \" free bottle of starlight not all this awesome Coca-cola swag too!! Came with a bottle of Coca-cola Starlight, a bucket hat, sunglasses, a t-shirt, gold metal straw, and a coca-cola sticker! Coca Cola made a delivery of Starlight Coke starlight changes flavor Coca-Cola Starlight: Space Cookies Coca-Cola Star\", \" starlight review (space coca cola) Coca-Cola Starlight Coca-Cola Starlight Got plenty of Coca-Cola Starlight over here in Cincinnati, OH Second time trying it, honestly warming up to it. How do you guys feel about Coca Cola starlight? Coka Cola Starlight review - First sip if like a bomb of flavor, like a f\", \"few sip the Bomb of flavor turned into a little fruity hint which east favored upon. Overall I give Starlight a 86.89% score. I\\'m looking forward to a great future of Coca Cola Creations. Coca-Cola Starlight tastes like regular Coke with an aftertaste of Oreo filling Coca cola starlight Coca-Cola Starlight C\", \"ca Cola Starlight in the HRM yet? Looking to try it out. [F] Tark Picks Her Poison ep. 8: Coca-Cola Starlight Zero Sugar [Space-flavored] [I AM CONFUSION] [Tark has no indoor voice] [Pissed off] [...but I like it] [Some burps] [Some flat singing] [Laughing] [F-bombs] I\\\\u2019m MAD Rumors and speculation for upcomi\", \"tions Coca-Cola Starlight Limited Edition! Have you tried it yet? Tell me what you think! Coca-Cola Starlight: A New Flavour That\\'s Out Of This World. Will it hit shelves all over the world? Coca-Cola Starlight: A New Flavour That\\'s Out Of This World. Will it hit shelves all over the globe? Coca-cola Starlig\", \"ght Limited Edition Review (Space Flavored) Coca-Cola Reveals New, Limited-Edition \\\\\"Space Flavored\\' Starlight Cola Coca-cola Starlight Google Translate and the News CLXXVIII Theory: Coke Starlight is actually a few different flavors with the same label? Coca Cola Starlight is awful. My take on Coca Cola Star\", \"avor inspired by New Coca-Cola starlight \\\\ud83c\\\\udf1f New Coca-Cola starlight \\\\ud83c\\\\udf1f Has Anyone Found The Coca Cola Starlight? If so, How is it? Coca Cola Starlight out early at cross timbers and 45N walmart Coca-Cola Starlight in Canada Coca-Cola zero sugar starlight review new Coca-Cola\\\\ufffc flavor for 2022 is it any good we \", \"kind-flavor-inspired-by-space $KO + Coca-Cola is working to expand into youth market * releases new Starlight flavor Coca-Cola introduces a limited-edition first-of-its-kind flavor next week - Starlight Coca-Cola introduces a first-of-its-kind flavor, Starlight, a new limited-edition version of the classic s\", \"day. New Coca-Cola starlight Friend found this for me today. New Coca-Cola starlight Will Coca Cola Starlight be available in Quebec? Coca-Cola launches new space-themed drink, \\\\\"Starlight\\\\\". KO is Berkshire\\'s third-largest common stock holding. Berkshire owns 9.5% of Coke with a cost basis of $3.25 per KO sha\", \"e with a cost basis of $3.25 per KO share : Coca-Cola to launch its first limited-edition beverage, Starlight : Coca-Cola to launch its first limited-edition beverage, Starlight Coca-Cola starlight review new Coca-Cola flavor Is it any good well you\\\\u2019re about to find out Coca-Cola starlight review new Coca-Co\", \"a-Cola starlight review new Coca-Cola flavor Is it any good well you\\\\u2019re about to find out Coca-Cola Starlight Launching February 21 | Coca-Cola Creations Hub New Coca-Cola Starlight and Starlight Zero Sugar Coca-Cola Starlight Zero Sugar Coca Cola Starlight & Starlight Zero 7.5oz mini cans. These are the fir\", \"s (Autumn Part I + II) \\\\u2697\\\\ufe0f\\\\ud83d\\\\udc99\\\\ud83c\\\\udf41\\\\ud83c\\\\udf83 I haven\\'t seen any tweets or anything on their website about Coca Cola Starlight. If they made a new flavor, you think they be posting it online Coca Cola Starlight Coca Cola Starlight coming next month! More drinks to follow! Coca Cola Starlight releases next Month! More New Dri\", \"one that\\'s set to be released. I need it now!!!!! Parking Lot in the Clouds New for 2022; Coca-Cola Starlight. Limited time flavor, includes both Full Sugar & Zero Sugar options. Xerf Xpec Master List Archive 201212 LOONA [12:00] Release: Orbit Ring Fansign #12 Roundup Theory on the deep The Fresca Theory an\"]'"
            ]
          },
          "metadata": {},
          "execution_count": 94
        }
      ]
    },
    {
      "cell_type": "code",
      "source": [
        "sent_titles = nltk.sent_tokenize(result)"
      ],
      "metadata": {
        "id": "ANuiV3vG-jo8"
      },
      "execution_count": 97,
      "outputs": []
    },
    {
      "cell_type": "code",
      "source": [
        "sent_body = nltk.sent_tokenize(results)"
      ],
      "metadata": {
        "id": "aq1ho8O_-wWU"
      },
      "execution_count": 98,
      "outputs": []
    },
    {
      "cell_type": "code",
      "source": [
        "sent_body"
      ],
      "metadata": {
        "colab": {
          "base_uri": "https://localhost:8080/"
        },
        "id": "15-aXSaj-0Wa",
        "outputId": "c1cf9a95-e510-4221-ca73-d144cce4aeb9"
      },
      "execution_count": 99,
      "outputs": [
        {
          "output_type": "execute_result",
          "data": {
            "text/plain": [
              "['[\"he amazing work of artists to star in Fiji.',\n",
              " 'Pepsi is like coffee.',\n",
              " 'My review of Coca-Cola Zero Sugar Starlight: [https://theduckpin.substack.com/p/starlight-not-so-bright](https://theduckpin.substack.com/p/starlight-not-so-bright)    Coca Cola starlight starts s\\\\u2019mores, becomes cherry coke + cream soda, then r\", \"also looking for the new Dragonfruit Fanta Zero.',\n",
              " 'Coke recently launched a mysterious flavor called \\\\u201cStarlight\\\\u201d.',\n",
              " 'They didn\\\\u2019t describe the taste except to say that it was supposed to be evocative of a night spent \\\\u201cunderneath the stars\\\\u201d.',\n",
              " 'I just tasted it 5 minutes ago, and I can\\\\u2019t believe what a brilliant move \", \"a-Cola Creations products coming down the line?',\n",
              " '[deleted]   Does anyone think the new coca-cola \\\\u201cStarlight\\\\u201d coming out has anything to do with Starfield releasing this year?',\n",
              " 'Like a brand deal, with it going to be in the game?',\n",
              " 'Or am I reaching?',\n",
              " 'I found an article (https://www.google.com/amp/s/amp.cnn.com/c\", \"lished as Coca-Cola Starlight as a color-coded scheme.',\n",
              " 'I bought a pack of the minicans of Coca-Cola Starlight Zero Sugar.',\n",
              " 'My mother and I each tried one can and gave our thoughts.',\n",
              " 'Mine tasted like graham crackers with a strong chocolate aftertaste.',\n",
              " 'She said it tasted minty.',\n",
              " 'On a whim we traded cans and reali\"]']"
            ]
          },
          "metadata": {},
          "execution_count": 99
        }
      ]
    },
    {
      "cell_type": "code",
      "source": [
        "nltk.download('averaged_perceptron_tagger')"
      ],
      "metadata": {
        "colab": {
          "base_uri": "https://localhost:8080/"
        },
        "id": "nyIaaDcU_PLK",
        "outputId": "698e8b82-ff24-4801-d312-17e37f3930cc"
      },
      "execution_count": 101,
      "outputs": [
        {
          "output_type": "stream",
          "name": "stdout",
          "text": [
            "[nltk_data] Downloading package averaged_perceptron_tagger to\n",
            "[nltk_data]     /root/nltk_data...\n",
            "[nltk_data]   Unzipping taggers/averaged_perceptron_tagger.zip.\n"
          ]
        },
        {
          "output_type": "execute_result",
          "data": {
            "text/plain": [
              "True"
            ]
          },
          "metadata": {},
          "execution_count": 101
        }
      ]
    },
    {
      "cell_type": "code",
      "source": [
        "from collections import defaultdict"
      ],
      "metadata": {
        "id": "lhsiqR01_l0K"
      },
      "execution_count": 105,
      "outputs": []
    },
    {
      "cell_type": "code",
      "source": [
        "body_tagged = [pos_tag(word_tokenize(sent)) for sent in sent_body]"
      ],
      "metadata": {
        "id": "RV0R32qL-5Tp"
      },
      "execution_count": 102,
      "outputs": []
    },
    {
      "cell_type": "code",
      "source": [
        "from nltk.corpus import stopwords"
      ],
      "metadata": {
        "id": "uoBrzlkdBt0F"
      },
      "execution_count": 121,
      "outputs": []
    },
    {
      "cell_type": "code",
      "source": [
        "body_tagged"
      ],
      "metadata": {
        "colab": {
          "base_uri": "https://localhost:8080/"
        },
        "id": "zdlUobj4_UUE",
        "outputId": "9c1170db-ad8d-4472-acc8-497cf0ee8837"
      },
      "execution_count": 103,
      "outputs": [
        {
          "output_type": "execute_result",
          "data": {
            "text/plain": [
              "[[('[', 'NN'),\n",
              "  ('``', '``'),\n",
              "  ('he', 'PRP'),\n",
              "  ('amazing', 'VBG'),\n",
              "  ('work', 'NN'),\n",
              "  ('of', 'IN'),\n",
              "  ('artists', 'NNS'),\n",
              "  ('to', 'TO'),\n",
              "  ('star', 'VB'),\n",
              "  ('in', 'IN'),\n",
              "  ('Fiji', 'NNP'),\n",
              "  ('.', '.')],\n",
              " [('Pepsi', 'NNS'),\n",
              "  ('is', 'VBZ'),\n",
              "  ('like', 'IN'),\n",
              "  ('coffee', 'NN'),\n",
              "  ('.', '.')],\n",
              " [('My', 'PRP$'),\n",
              "  ('review', 'NN'),\n",
              "  ('of', 'IN'),\n",
              "  ('Coca-Cola', 'NNP'),\n",
              "  ('Zero', 'NNP'),\n",
              "  ('Sugar', 'NNP'),\n",
              "  ('Starlight', 'NNP'),\n",
              "  (':', ':'),\n",
              "  ('[', 'JJ'),\n",
              "  ('https', 'NN'),\n",
              "  (':', ':'),\n",
              "  ('//theduckpin.substack.com/p/starlight-not-so-bright', 'JJ'),\n",
              "  (']', 'NN'),\n",
              "  ('(', '('),\n",
              "  ('https', 'JJ'),\n",
              "  (':', ':'),\n",
              "  ('//theduckpin.substack.com/p/starlight-not-so-bright', 'JJ'),\n",
              "  (')', ')'),\n",
              "  ('Coca', 'NNP'),\n",
              "  ('Cola', 'NNP'),\n",
              "  ('starlight', 'VBD'),\n",
              "  ('starts', 'NNS'),\n",
              "  ('s\\\\u2019mores', 'NNS'),\n",
              "  (',', ','),\n",
              "  ('becomes', 'VBZ'),\n",
              "  ('cherry', 'JJ'),\n",
              "  ('coke', 'NN'),\n",
              "  ('+', 'NNP'),\n",
              "  ('cream', 'NN'),\n",
              "  ('soda', 'NN'),\n",
              "  (',', ','),\n",
              "  ('then', 'RB'),\n",
              "  ('r', 'NN'),\n",
              "  (\"''\", \"''\"),\n",
              "  (',', ','),\n",
              "  ('``', '``'),\n",
              "  ('also', 'RB'),\n",
              "  ('looking', 'VBG'),\n",
              "  ('for', 'IN'),\n",
              "  ('the', 'DT'),\n",
              "  ('new', 'JJ'),\n",
              "  ('Dragonfruit', 'NNP'),\n",
              "  ('Fanta', 'NNP'),\n",
              "  ('Zero', 'NNP'),\n",
              "  ('.', '.')],\n",
              " [('Coke', 'NNP'),\n",
              "  ('recently', 'RB'),\n",
              "  ('launched', 'VBD'),\n",
              "  ('a', 'DT'),\n",
              "  ('mysterious', 'JJ'),\n",
              "  ('flavor', 'NN'),\n",
              "  ('called', 'VBN'),\n",
              "  ('\\\\u201cStarlight\\\\u201d', 'NN'),\n",
              "  ('.', '.')],\n",
              " [('They', 'PRP'),\n",
              "  ('didn\\\\u2019t', 'VBP'),\n",
              "  ('describe', 'VB'),\n",
              "  ('the', 'DT'),\n",
              "  ('taste', 'NN'),\n",
              "  ('except', 'IN'),\n",
              "  ('to', 'TO'),\n",
              "  ('say', 'VB'),\n",
              "  ('that', 'IN'),\n",
              "  ('it', 'PRP'),\n",
              "  ('was', 'VBD'),\n",
              "  ('supposed', 'VBN'),\n",
              "  ('to', 'TO'),\n",
              "  ('be', 'VB'),\n",
              "  ('evocative', 'JJ'),\n",
              "  ('of', 'IN'),\n",
              "  ('a', 'DT'),\n",
              "  ('night', 'NN'),\n",
              "  ('spent', 'VBN'),\n",
              "  ('\\\\u201cunderneath', 'IN'),\n",
              "  ('the', 'DT'),\n",
              "  ('stars\\\\u201d', 'NN'),\n",
              "  ('.', '.')],\n",
              " [('I', 'PRP'),\n",
              "  ('just', 'RB'),\n",
              "  ('tasted', 'VBD'),\n",
              "  ('it', 'PRP'),\n",
              "  ('5', 'CD'),\n",
              "  ('minutes', 'NNS'),\n",
              "  ('ago', 'RB'),\n",
              "  (',', ','),\n",
              "  ('and', 'CC'),\n",
              "  ('I', 'PRP'),\n",
              "  ('can\\\\u2019t', 'VBP'),\n",
              "  ('believe', 'VBP'),\n",
              "  ('what', 'WP'),\n",
              "  ('a', 'DT'),\n",
              "  ('brilliant', 'JJ'),\n",
              "  ('move', 'NN'),\n",
              "  ('``', '``'),\n",
              "  (',', ','),\n",
              "  ('``', '``'),\n",
              "  ('a-Cola', 'JJ'),\n",
              "  ('Creations', 'NNS'),\n",
              "  ('products', 'NNS'),\n",
              "  ('coming', 'VBG'),\n",
              "  ('down', 'RP'),\n",
              "  ('the', 'DT'),\n",
              "  ('line', 'NN'),\n",
              "  ('?', '.')],\n",
              " [('[', 'RB'),\n",
              "  ('deleted', 'VBN'),\n",
              "  (']', 'NN'),\n",
              "  ('Does', 'NNP'),\n",
              "  ('anyone', 'NN'),\n",
              "  ('think', 'VB'),\n",
              "  ('the', 'DT'),\n",
              "  ('new', 'JJ'),\n",
              "  ('coca-cola', 'JJ'),\n",
              "  ('\\\\u201cStarlight\\\\u201d', 'NN'),\n",
              "  ('coming', 'VBG'),\n",
              "  ('out', 'RP'),\n",
              "  ('has', 'VBZ'),\n",
              "  ('anything', 'NN'),\n",
              "  ('to', 'TO'),\n",
              "  ('do', 'VB'),\n",
              "  ('with', 'IN'),\n",
              "  ('Starfield', 'NNP'),\n",
              "  ('releasing', 'VBG'),\n",
              "  ('this', 'DT'),\n",
              "  ('year', 'NN'),\n",
              "  ('?', '.')],\n",
              " [('Like', 'IN'),\n",
              "  ('a', 'DT'),\n",
              "  ('brand', 'NN'),\n",
              "  ('deal', 'NN'),\n",
              "  (',', ','),\n",
              "  ('with', 'IN'),\n",
              "  ('it', 'PRP'),\n",
              "  ('going', 'VBG'),\n",
              "  ('to', 'TO'),\n",
              "  ('be', 'VB'),\n",
              "  ('in', 'IN'),\n",
              "  ('the', 'DT'),\n",
              "  ('game', 'NN'),\n",
              "  ('?', '.')],\n",
              " [('Or', 'CC'), ('am', 'VBP'), ('I', 'PRP'), ('reaching', 'VBG'), ('?', '.')],\n",
              " [('I', 'PRP'),\n",
              "  ('found', 'VBD'),\n",
              "  ('an', 'DT'),\n",
              "  ('article', 'NN'),\n",
              "  ('(', '('),\n",
              "  ('https', 'NN'),\n",
              "  (':', ':'),\n",
              "  ('//www.google.com/amp/s/amp.cnn.com/c', 'NN'),\n",
              "  (\"''\", \"''\"),\n",
              "  (',', ','),\n",
              "  ('``', '``'),\n",
              "  ('lished', 'VBD'),\n",
              "  ('as', 'IN'),\n",
              "  ('Coca-Cola', 'NNP'),\n",
              "  ('Starlight', 'NNP'),\n",
              "  ('as', 'IN'),\n",
              "  ('a', 'DT'),\n",
              "  ('color-coded', 'JJ'),\n",
              "  ('scheme', 'NN'),\n",
              "  ('.', '.')],\n",
              " [('I', 'PRP'),\n",
              "  ('bought', 'VBD'),\n",
              "  ('a', 'DT'),\n",
              "  ('pack', 'NN'),\n",
              "  ('of', 'IN'),\n",
              "  ('the', 'DT'),\n",
              "  ('minicans', 'NNS'),\n",
              "  ('of', 'IN'),\n",
              "  ('Coca-Cola', 'NNP'),\n",
              "  ('Starlight', 'NNP'),\n",
              "  ('Zero', 'NNP'),\n",
              "  ('Sugar', 'NNP'),\n",
              "  ('.', '.')],\n",
              " [('My', 'PRP$'),\n",
              "  ('mother', 'NN'),\n",
              "  ('and', 'CC'),\n",
              "  ('I', 'PRP'),\n",
              "  ('each', 'DT'),\n",
              "  ('tried', 'VBD'),\n",
              "  ('one', 'CD'),\n",
              "  ('can', 'MD'),\n",
              "  ('and', 'CC'),\n",
              "  ('gave', 'VBD'),\n",
              "  ('our', 'PRP$'),\n",
              "  ('thoughts', 'NNS'),\n",
              "  ('.', '.')],\n",
              " [('Mine', 'NNP'),\n",
              "  ('tasted', 'VBD'),\n",
              "  ('like', 'IN'),\n",
              "  ('graham', 'NN'),\n",
              "  ('crackers', 'NNS'),\n",
              "  ('with', 'IN'),\n",
              "  ('a', 'DT'),\n",
              "  ('strong', 'JJ'),\n",
              "  ('chocolate', 'NN'),\n",
              "  ('aftertaste', 'NN'),\n",
              "  ('.', '.')],\n",
              " [('She', 'PRP'),\n",
              "  ('said', 'VBD'),\n",
              "  ('it', 'PRP'),\n",
              "  ('tasted', 'VBD'),\n",
              "  ('minty', 'NN'),\n",
              "  ('.', '.')],\n",
              " [('On', 'IN'),\n",
              "  ('a', 'DT'),\n",
              "  ('whim', 'NN'),\n",
              "  ('we', 'PRP'),\n",
              "  ('traded', 'VBD'),\n",
              "  ('cans', 'NNS'),\n",
              "  ('and', 'CC'),\n",
              "  ('reali', 'NN'),\n",
              "  (\"''\", \"''\"),\n",
              "  (']', 'NN')]]"
            ]
          },
          "metadata": {},
          "execution_count": 103
        }
      ]
    },
    {
      "cell_type": "code",
      "source": [
        "body_noun = defaultdict(int)\n",
        "for sent in body_tagged:\n",
        "  for word, pos in sent:\n",
        "    if pos[:2] == 'NN': \n",
        "      body_noun[word.lower()] +=1"
      ],
      "metadata": {
        "id": "UzV-oeDd_elK"
      },
      "execution_count": 123,
      "outputs": []
    },
    {
      "cell_type": "code",
      "source": [
        "body_noun.popitem"
      ],
      "metadata": {
        "colab": {
          "base_uri": "https://localhost:8080/"
        },
        "id": "RMBZXx1JDbpj",
        "outputId": "5e5b629b-e196-4da5-f4cd-4655cde03c4b"
      },
      "execution_count": 137,
      "outputs": [
        {
          "output_type": "execute_result",
          "data": {
            "text/plain": [
              "<function defaultdict.popitem>"
            ]
          },
          "metadata": {},
          "execution_count": 137
        }
      ]
    },
    {
      "cell_type": "code",
      "source": [
        ""
      ],
      "metadata": {
        "id": "AB8NyyfZD59h"
      },
      "execution_count": null,
      "outputs": []
    },
    {
      "cell_type": "code",
      "source": [
        "import matplotlib.pyplot as plt\n"
      ],
      "metadata": {
        "id": "GKxTX20TCIYj"
      },
      "execution_count": 125,
      "outputs": []
    },
    {
      "cell_type": "code",
      "source": [
        "myList = body_noun.items()\n",
        "myList = sorted(myList)\n",
        "x, y = zip(*myList)\n",
        "plt.rcParams[\"figure.figsize\"] = (30,8)\n",
        "\n",
        "plt.plot(x, y)\n",
        "plt.xlabel('Key')\n",
        "plt.ylabel('Value')\n",
        "plt.title('My Dictionary')\n",
        "plt.show()"
      ],
      "metadata": {
        "colab": {
          "base_uri": "https://localhost:8080/",
          "height": 348
        },
        "id": "RIbVmAdLCK97",
        "outputId": "6dbd6022-d3a4-493c-9d8c-a4492e62c4b6"
      },
      "execution_count": 131,
      "outputs": [
        {
          "output_type": "display_data",
          "data": {
            "image/png": "[encoded data removed]",
            "text/plain": [
              "<Figure size 2160x576 with 1 Axes>"
            ]
          },
          "metadata": {
            "needs_background": "light"
          }
        }
      ]
    },
    {
      "cell_type": "code",
      "source": [
        "myList.pop(0)"
      ],
      "metadata": {
        "colab": {
          "base_uri": "https://localhost:8080/"
        },
        "id": "xUi4pCKLD6iB",
        "outputId": "78e4da0e-3686-4c7b-9bc4-87e78e67c198"
      },
      "execution_count": 141,
      "outputs": [
        {
          "output_type": "execute_result",
          "data": {
            "text/plain": [
              "('+', 1)"
            ]
          },
          "metadata": {},
          "execution_count": 141
        }
      ]
    },
    {
      "cell_type": "code",
      "source": [
        "myList.pop(0)\n"
      ],
      "metadata": {
        "colab": {
          "base_uri": "https://localhost:8080/"
        },
        "id": "OjQ0MrIYEPrW",
        "outputId": "6683e0ab-46cb-4acf-977a-bead241dc03d"
      },
      "execution_count": 144,
      "outputs": [
        {
          "output_type": "execute_result",
          "data": {
            "text/plain": [
              "('//www.google.com/amp/s/amp.cnn.com/c', 1)"
            ]
          },
          "metadata": {},
          "execution_count": 144
        }
      ]
    },
    {
      "cell_type": "code",
      "source": [
        "myList.pop(0)"
      ],
      "metadata": {
        "colab": {
          "base_uri": "https://localhost:8080/"
        },
        "id": "mEoWmknJEVPX",
        "outputId": "1b587038-26db-4961-8fc6-427c48140dc5"
      },
      "execution_count": 151,
      "outputs": [
        {
          "output_type": "execute_result",
          "data": {
            "text/plain": [
              "('+', 1)"
            ]
          },
          "metadata": {},
          "execution_count": 151
        }
      ]
    },
    {
      "cell_type": "code",
      "source": [
        "myList.pop(0)"
      ],
      "metadata": {
        "colab": {
          "base_uri": "https://localhost:8080/"
        },
        "id": "0OPRGWzNEWsF",
        "outputId": "39e50cf6-620a-4073-d773-b39db34b39bd"
      },
      "execution_count": 152,
      "outputs": [
        {
          "output_type": "execute_result",
          "data": {
            "text/plain": [
              "('//www.google.com/amp/s/amp.cnn.com/c', 1)"
            ]
          },
          "metadata": {},
          "execution_count": 152
        }
      ]
    },
    {
      "cell_type": "code",
      "source": [
        "myList.pop(0)"
      ],
      "metadata": {
        "colab": {
          "base_uri": "https://localhost:8080/"
        },
        "id": "bP6VKThrEZzH",
        "outputId": "4075edd0-9ca0-42f2-dbb8-203cc8fbd362"
      },
      "execution_count": 153,
      "outputs": [
        {
          "output_type": "execute_result",
          "data": {
            "text/plain": [
              "('[', 1)"
            ]
          },
          "metadata": {},
          "execution_count": 153
        }
      ]
    },
    {
      "cell_type": "code",
      "source": [
        "myList.pop(0)"
      ],
      "metadata": {
        "colab": {
          "base_uri": "https://localhost:8080/"
        },
        "id": "ZNA8UPTPEry6",
        "outputId": "f973d764-40b4-4e75-a1a9-2163fec5a5d9"
      },
      "execution_count": 155,
      "outputs": [
        {
          "output_type": "execute_result",
          "data": {
            "text/plain": [
              "('\\\\u201cstarlight\\\\u201d', 2)"
            ]
          },
          "metadata": {},
          "execution_count": 155
        }
      ]
    },
    {
      "cell_type": "code",
      "source": [
        "myList.pop(0)"
      ],
      "metadata": {
        "colab": {
          "base_uri": "https://localhost:8080/"
        },
        "id": "13N05HGwEs3I",
        "outputId": "353494a0-30a6-41d2-ec60-359027e60085"
      },
      "execution_count": 156,
      "outputs": [
        {
          "output_type": "execute_result",
          "data": {
            "text/plain": [
              "(']', 3)"
            ]
          },
          "metadata": {},
          "execution_count": 156
        }
      ]
    },
    {
      "cell_type": "code",
      "source": [
        "\n",
        "myList = sorted(myList)\n",
        "x, y = zip(*myList)\n",
        "plt.rcParams[\"figure.figsize\"] = (30,8)\n",
        "\n",
        "plt.plot(x, y)\n",
        "plt.xlabel('Key')\n",
        "plt.ylabel('Value')\n",
        "plt.title('My Dictionary')\n",
        "plt.show()"
      ],
      "metadata": {
        "colab": {
          "base_uri": "https://localhost:8080/",
          "height": 348
        },
        "id": "0B8uzp1iEa2C",
        "outputId": "d23e1787-7385-4423-cbda-ce375d1235fd"
      },
      "execution_count": 157,
      "outputs": [
        {
          "output_type": "display_data",
          "data": {
            "image/png": "[encoded data removed]",
            "text/plain": [
              "<Figure size 2160x576 with 1 Axes>"
            ]
          },
          "metadata": {
            "needs_background": "light"
          }
        }
      ]
    },
    {
      "cell_type": "markdown",
      "source": [
        "Based on this graph, my initial hunch that no one really knows the flavor of the new Coke Starlight is true. Plenty of words were used to describe it's flavor like coffee, smores, sugar, chocolate, etc, but none were used very often. "
      ],
      "metadata": {
        "id": "faAf77m9FGk6"
      }
    }
  ]
}