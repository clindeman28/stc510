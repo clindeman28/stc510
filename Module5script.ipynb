{
 "cells": [
  {
   "cell_type": "code",
   "execution_count": 2,
   "id": "85e72c9c",
   "metadata": {},
   "outputs": [],
   "source": [
    "from nltk.tokenize import sent_tokenize, word_tokenize\n",
    "from bs4 import BeautifulSoup\n",
    "import os\n",
    "DIRNAME = 'jeopardy/'\n",
    "\n"
   ]
  },
  {
   "cell_type": "code",
   "execution_count": 3,
   "id": "1ef51ee0",
   "metadata": {},
   "outputs": [],
   "source": [
    "from nltk.corpus import stopwords"
   ]
  },
  {
   "cell_type": "code",
   "execution_count": 4,
   "id": "02b40971",
   "metadata": {},
   "outputs": [],
   "source": [
    "jeofiles = os.listdir(DIRNAME)"
   ]
  },
  {
   "cell_type": "code",
   "execution_count": 5,
   "id": "7f6ac97f",
   "metadata": {
    "scrolled": true
   },
   "outputs": [
    {
     "name": "stderr",
     "output_type": "stream",
     "text": [
      "[nltk_data] Downloading package punkt to\n",
      "[nltk_data]     C:\\Users\\conno\\AppData\\Roaming\\nltk_data...\n",
      "[nltk_data]   Package punkt is already up-to-date!\n"
     ]
    },
    {
     "data": {
      "text/plain": [
       "True"
      ]
     },
     "execution_count": 5,
     "metadata": {},
     "output_type": "execute_result"
    }
   ],
   "source": [
    "import nltk\n",
    "nltk.download('punkt')"
   ]
  },
  {
   "cell_type": "code",
   "execution_count": 6,
   "id": "1aa19545",
   "metadata": {},
   "outputs": [],
   "source": [
    "text = open(DIRNAME + jeofiles.pop()).read()"
   ]
  },
  {
   "cell_type": "code",
   "execution_count": null,
   "id": "bb81001a",
   "metadata": {},
   "outputs": [],
   "source": [
    "sample = [word_tokenize(sent) for sent in sent_tokenize(text)]"
   ]
  },
  {
   "cell_type": "code",
   "execution_count": 10,
   "id": "b9d298ce",
   "metadata": {
    "scrolled": false
   },
   "outputs": [],
   "source": [
    "sent_split = sent_tokenize(text)"
   ]
  },
  {
   "cell_type": "code",
   "execution_count": 11,
   "id": "3f18f190",
   "metadata": {},
   "outputs": [],
   "source": [
    "from nltk.stem import PorterStemmer, WordNetLemmatizer"
   ]
  },
  {
   "cell_type": "code",
   "execution_count": 17,
   "id": "7a7cacd2",
   "metadata": {},
   "outputs": [],
   "source": [
    "stemmer = PorterStemmer()"
   ]
  },
  {
   "cell_type": "code",
   "execution_count": 13,
   "id": "e1ec7a16",
   "metadata": {},
   "outputs": [
    {
     "data": {
      "text/plain": [
       "['[{\"category\": \"HISTORY\", \"air_date\": \"2004-12-31\", \"question\": \"\\'For the last 8 years of his life, Galileo was under house arrest for espousing this man\\'s theory\\'\", \"value\": \"$200\", \"answer\": \"Copernicus\", \"round\": \"Jeopardy!',\n",
       " '\", \"show_number\": \"4680\"}, {\"category\": \"ESPN\\'s TOP 10 ALL-TIME ATHLETES\", \"air_date\": \"2004-12-31\", \"question\": \"\\'No.',\n",
       " '2: 1912 Olympian; football star at Carlisle Indian School; 6 MLB seasons with the Reds, Giants & Braves\\'\", \"value\": \"$200\", \"answer\": \"Jim Thorpe\", \"round\": \"Jeopardy!',\n",
       " '\", \"show_number\": \"4680\"}, {\"category\": \"EVERYBODY TALKS ABOUT IT...\", \"air_date\": \"2004-12-31\", \"question\": \"\\'The city of Yuma in this state has a record average of 4,055 hours of sunshine each year\\'\", \"value\": \"$200\", \"answer\": \"Arizona\", \"round\": \"Jeopardy!',\n",
       " '\", \"show_number\": \"4680\"}, {\"category\": \"THE COMPANY LINE\", \"air_date\": \"2004-12-31\", \"question\": \"\\'In 1963, live on \\\\\"The Art Linkletter Show\\\\\", this company served its billionth burger\\'\", \"value\": \"$200\", \"answer\": \"McDonald\\\\\\\\\\'s\", \"round\": \"Jeopardy!',\n",
       " '\", \"show_number\": \"4680\"}, {\"category\": \"EPITAPHS & TRIBUTES\", \"air_date\": \"2004-12-31\", \"question\": \"\\'Signer of the Dec. of Indep., framer of the Constitution of Mass., second President of the United States\\'\", \"value\": \"$200\", \"answer\": \"John Adams\", \"round\": \"Jeopardy!',\n",
       " '\", \"show_number\": \"4680\"}, {\"category\": \"3-LETTER WORDS\", \"air_date\": \"2004-12-31\", \"question\": \"\\'In the title of an Aesop fable, this insect shared billing with a grasshopper\\'\", \"value\": \"$200\", \"answer\": \"the ant\", \"round\": \"Jeopardy!',\n",
       " '\", \"show_number\": \"4680\"}, {\"category\": \"HISTORY\", \"air_date\": \"2004-12-31\", \"question\": \"\\'Built in 312 B.C.',\n",
       " 'to link Rome & the South of Italy, it\\'s still in use today\\'\", \"value\": \"$400\", \"answer\": \"the Appian Way\", \"round\": \"Jeopardy!',\n",
       " '\", \"show_number\": \"4680\"}, {\"category\": \"ESPN\\'s TOP 10 ALL-TIME ATHLETES\", \"air_date\": \"2004-12-31\", \"question\": \"\\'No.']"
      ]
     },
     "execution_count": 13,
     "metadata": {},
     "output_type": "execute_result"
    }
   ],
   "source": [
    "sent_split[:10]"
   ]
  },
  {
   "cell_type": "code",
   "execution_count": 33,
   "id": "b0f6106c",
   "metadata": {},
   "outputs": [],
   "source": [
    "import re"
   ]
  },
  {
   "cell_type": "code",
   "execution_count": 60,
   "id": "8a4787b8",
   "metadata": {},
   "outputs": [],
   "source": [
    "high = [1 if re.findall('ESPN',sent) else 0 for sent in sent_split]"
   ]
  },
  {
   "cell_type": "code",
   "execution_count": 61,
   "id": "81f9c003",
   "metadata": {},
   "outputs": [
    {
     "data": {
      "text/plain": [
       "[0,\n",
       " 1,\n",
       " 0,\n",
       " 0,\n",
       " 0,\n",
       " 0,\n",
       " 0,\n",
       " 0,\n",
       " 0,\n",
       " 1,\n",
       " 0,\n",
       " 0,\n",
       " 0,\n",
       " 0,\n",
       " 0,\n",
       " 0,\n",
       " 1,\n",
       " 0,\n",
       " 0,\n",
       " 0,\n",
       " 0,\n",
       " 0,\n",
       " 0,\n",
       " 0,\n",
       " 1,\n",
       " 0,\n",
       " 0,\n",
       " 0,\n",
       " 0,\n",
       " 0,\n",
       " 0,\n",
       " 1,\n",
       " 0,\n",
       " 0,\n",
       " 0,\n",
       " 0,\n",
       " 0,\n",
       " 0,\n",
       " 0,\n",
       " 0,\n",
       " 0,\n",
       " 0,\n",
       " 0,\n",
       " 0,\n",
       " 0,\n",
       " 0,\n",
       " 0,\n",
       " 0,\n",
       " 0,\n",
       " 0,\n",
       " 0,\n",
       " 0,\n",
       " 0,\n",
       " 0,\n",
       " 0,\n",
       " 0,\n",
       " 0,\n",
       " 0,\n",
       " 0,\n",
       " 0,\n",
       " 0,\n",
       " 0,\n",
       " 0,\n",
       " 0,\n",
       " 0,\n",
       " 0,\n",
       " 0,\n",
       " 0,\n",
       " 0,\n",
       " 0,\n",
       " 0,\n",
       " 0,\n",
       " 0,\n",
       " 0,\n",
       " 0,\n",
       " 0,\n",
       " 0,\n",
       " 0,\n",
       " 0,\n",
       " 0,\n",
       " 0,\n",
       " 0,\n",
       " 0,\n",
       " 0,\n",
       " 0,\n",
       " 0,\n",
       " 0,\n",
       " 0,\n",
       " 0,\n",
       " 0,\n",
       " 0,\n",
       " 0,\n",
       " 0,\n",
       " 0,\n",
       " 0,\n",
       " 0,\n",
       " 0,\n",
       " 0,\n",
       " 0,\n",
       " 0]"
      ]
     },
     "execution_count": 61,
     "metadata": {},
     "output_type": "execute_result"
    }
   ],
   "source": [
    "high[:100]"
   ]
  },
  {
   "cell_type": "code",
   "execution_count": 62,
   "id": "413debef",
   "metadata": {},
   "outputs": [
    {
     "data": {
      "text/plain": [
       "[('[{\"category\": \"HISTORY\", \"air_date\": \"2004-12-31\", \"question\": \"\\'For the last 8 years of his life, Galileo was under house arrest for espousing this man\\'s theory\\'\", \"value\": \"$200\", \"answer\": \"Copernicus\", \"round\": \"Jeopardy!',\n",
       "  0),\n",
       " ('\", \"show_number\": \"4680\"}, {\"category\": \"ESPN\\'s TOP 10 ALL-TIME ATHLETES\", \"air_date\": \"2004-12-31\", \"question\": \"\\'No.',\n",
       "  1),\n",
       " ('2: 1912 Olympian; football star at Carlisle Indian School; 6 MLB seasons with the Reds, Giants & Braves\\'\", \"value\": \"$200\", \"answer\": \"Jim Thorpe\", \"round\": \"Jeopardy!',\n",
       "  0),\n",
       " ('\", \"show_number\": \"4680\"}, {\"category\": \"EVERYBODY TALKS ABOUT IT...\", \"air_date\": \"2004-12-31\", \"question\": \"\\'The city of Yuma in this state has a record average of 4,055 hours of sunshine each year\\'\", \"value\": \"$200\", \"answer\": \"Arizona\", \"round\": \"Jeopardy!',\n",
       "  0),\n",
       " ('\", \"show_number\": \"4680\"}, {\"category\": \"THE COMPANY LINE\", \"air_date\": \"2004-12-31\", \"question\": \"\\'In 1963, live on \\\\\"The Art Linkletter Show\\\\\", this company served its billionth burger\\'\", \"value\": \"$200\", \"answer\": \"McDonald\\\\\\\\\\'s\", \"round\": \"Jeopardy!',\n",
       "  0),\n",
       " ('\", \"show_number\": \"4680\"}, {\"category\": \"EPITAPHS & TRIBUTES\", \"air_date\": \"2004-12-31\", \"question\": \"\\'Signer of the Dec. of Indep., framer of the Constitution of Mass., second President of the United States\\'\", \"value\": \"$200\", \"answer\": \"John Adams\", \"round\": \"Jeopardy!',\n",
       "  0),\n",
       " ('\", \"show_number\": \"4680\"}, {\"category\": \"3-LETTER WORDS\", \"air_date\": \"2004-12-31\", \"question\": \"\\'In the title of an Aesop fable, this insect shared billing with a grasshopper\\'\", \"value\": \"$200\", \"answer\": \"the ant\", \"round\": \"Jeopardy!',\n",
       "  0),\n",
       " ('\", \"show_number\": \"4680\"}, {\"category\": \"HISTORY\", \"air_date\": \"2004-12-31\", \"question\": \"\\'Built in 312 B.C.',\n",
       "  0),\n",
       " ('to link Rome & the South of Italy, it\\'s still in use today\\'\", \"value\": \"$400\", \"answer\": \"the Appian Way\", \"round\": \"Jeopardy!',\n",
       "  0),\n",
       " ('\", \"show_number\": \"4680\"}, {\"category\": \"ESPN\\'s TOP 10 ALL-TIME ATHLETES\", \"air_date\": \"2004-12-31\", \"question\": \"\\'No.',\n",
       "  1),\n",
       " ('8: 30 steals for the Birmingham Barons; 2,306 steals for the Bulls\\'\", \"value\": \"$400\", \"answer\": \"Michael Jordan\", \"round\": \"Jeopardy!',\n",
       "  0),\n",
       " ('\", \"show_number\": \"4680\"}, {\"category\": \"EVERYBODY TALKS ABOUT IT...\", \"air_date\": \"2004-12-31\", \"question\": \"\\'In the winter of 1971-72, a record 1,122 inches of snow fell at Rainier Paradise Ranger Station in this state\\'\", \"value\": \"$400\", \"answer\": \"Washington\", \"round\": \"Jeopardy!',\n",
       "  0),\n",
       " ('\", \"show_number\": \"4680\"}, {\"category\": \"THE COMPANY LINE\", \"air_date\": \"2004-12-31\", \"question\": \"\\'This housewares store was named for the packaging its merchandise came in & was first displayed on\\'\", \"value\": \"$400\", \"answer\": \"Crate & Barrel\", \"round\": \"Jeopardy!',\n",
       "  0),\n",
       " ('\", \"show_number\": \"4680\"}, {\"category\": \"EPITAPHS & TRIBUTES\", \"air_date\": \"2004-12-31\", \"question\": \"\\'\\\\\"And away we go\\\\\"\\'\", \"value\": \"$400\", \"answer\": \"Jackie Gleason\", \"round\": \"Jeopardy!',\n",
       "  0),\n",
       " ('\", \"show_number\": \"4680\"}, {\"category\": \"3-LETTER WORDS\", \"air_date\": \"2004-12-31\", \"question\": \"\\'Cows regurgitate this from the first stomach to the mouth & chew it again\\'\", \"value\": \"$400\", \"answer\": \"the cud\", \"round\": \"Jeopardy!',\n",
       "  0),\n",
       " ('\", \"show_number\": \"4680\"}, {\"category\": \"HISTORY\", \"air_date\": \"2004-12-31\", \"question\": \"\\'In 1000 Rajaraja I of the Cholas battled to take this Indian Ocean island now known for its tea\\'\", \"value\": \"$600\", \"answer\": \"Ceylon (or Sri Lanka)\", \"round\": \"Jeopardy!',\n",
       "  0),\n",
       " ('\", \"show_number\": \"4680\"}, {\"category\": \"ESPN\\'s TOP 10 ALL-TIME ATHLETES\", \"air_date\": \"2004-12-31\", \"question\": \"\\'No.',\n",
       "  1),\n",
       " ('1: Lettered in hoops, football & lacrosse at Syracuse & if you think he couldn\\'t act, ask his 11 \\\\\"unclean\\\\\" buddies\\'\", \"value\": \"$600\", \"answer\": \"Jim Brown\", \"round\": \"Jeopardy!',\n",
       "  0),\n",
       " ('\", \"show_number\": \"4680\"}, {\"category\": \"EVERYBODY TALKS ABOUT IT...\", \"air_date\": \"2004-12-31\", \"question\": \"\\'On June 28, 1994 the nat\\'l weather service began issuing this index that rates the intensity of the sun\\'s radiation\\'\", \"value\": \"$600\", \"answer\": \"the UV index\", \"round\": \"Jeopardy!',\n",
       "  0),\n",
       " ('\", \"show_number\": \"4680\"}, {\"category\": \"THE COMPANY LINE\", \"air_date\": \"2004-12-31\", \"question\": \"\\'This company\\'s Accutron watch, introduced in 1960, had a guarantee of accuracy to within one minute a  month\\'\", \"value\": \"$600\", \"answer\": \"Bulova\", \"round\": \"Jeopardy!',\n",
       "  0),\n",
       " ('\", \"show_number\": \"4680\"}, {\"category\": \"EPITAPHS & TRIBUTES\", \"air_date\": \"2004-12-31\", \"question\": \"\\'Outlaw: \\\\\"Murdered by a traitor and a coward whose name is not worthy to appear here\\\\\"\\'\", \"value\": \"$600\", \"answer\": \"Jesse James\", \"round\": \"Jeopardy!',\n",
       "  0),\n",
       " ('\", \"show_number\": \"4680\"}, {\"category\": \"3-LETTER WORDS\", \"air_date\": \"2004-12-31\", \"question\": \"\\'A small demon, or a mischievous child (who might be a little demon!',\n",
       "  0),\n",
       " (')\\'\", \"value\": \"$600\", \"answer\": \"imp\", \"round\": \"Jeopardy!', 0),\n",
       " ('\", \"show_number\": \"4680\"}, {\"category\": \"HISTORY\", \"air_date\": \"2004-12-31\", \"question\": \"\\'Karl led the first of these Marxist organizational efforts; the second one began in 1889\\'\", \"value\": \"$800\", \"answer\": \"the International\", \"round\": \"Jeopardy!',\n",
       "  0),\n",
       " ('\", \"show_number\": \"4680\"}, {\"category\": \"ESPN\\'s TOP 10 ALL-TIME ATHLETES\", \"air_date\": \"2004-12-31\", \"question\": \"\\'No.',\n",
       "  1)]"
      ]
     },
     "execution_count": 62,
     "metadata": {},
     "output_type": "execute_result"
    }
   ],
   "source": [
    "list(zip(sent_split,high))[:25]"
   ]
  },
  {
   "cell_type": "code",
   "execution_count": 63,
   "id": "f43a06c0",
   "metadata": {},
   "outputs": [],
   "source": [
    "import pandas as pd"
   ]
  },
  {
   "cell_type": "code",
   "execution_count": 66,
   "id": "40895493",
   "metadata": {},
   "outputs": [],
   "source": [
    "df = pd.DataFrame({'question':sent_split,\n",
    "                  'value':high})"
   ]
  },
  {
   "cell_type": "code",
   "execution_count": 70,
   "id": "48bf0dbf",
   "metadata": {},
   "outputs": [],
   "source": [
    "from sklearn.feature_extraction.text import TfidfVectorizer\n",
    "from sklearn.model_selection import train_test_split\n",
    "from sklearn.naive_bayes import MultinomialNB\n",
    "from sklearn.metrics import accuracy_score"
   ]
  },
  {
   "cell_type": "code",
   "execution_count": 72,
   "id": "6ce18430",
   "metadata": {},
   "outputs": [],
   "source": [
    "X_train, X_test, y_train, y_test = train_test_split(df.question,df.value,random_state=1)"
   ]
  },
  {
   "cell_type": "code",
   "execution_count": 73,
   "id": "d8bfb599",
   "metadata": {},
   "outputs": [],
   "source": [
    "tfidf_vectorizer = TfidfVectorizer(use_idf=True)\n",
    "X_train_tf = tfidf_vectorizer.fit_transform(X_train)\n",
    "X_test_tf = tfidf_vectorizer.transform(X_test)\n"
   ]
  },
  {
   "cell_type": "code",
   "execution_count": 74,
   "id": "1998e8df",
   "metadata": {},
   "outputs": [],
   "source": [
    "naive_bayes = MultinomialNB()\n",
    "naive_bayes.fit(X_train_tf,y_train)\n",
    "predictions = naive_bayes.predict(X_test_tf)"
   ]
  },
  {
   "cell_type": "code",
   "execution_count": 77,
   "id": "b62c591c",
   "metadata": {},
   "outputs": [
    {
     "name": "stdout",
     "output_type": "stream",
     "text": [
      "Accurary: 0.9997540862665377\n"
     ]
    }
   ],
   "source": [
    "print('Accurary:',accuracy_score(y_test,predictions))"
   ]
  }
 ],
 "metadata": {
  "kernelspec": {
   "display_name": "Python 3 (ipykernel)",
   "language": "python",
   "name": "python3"
  },
  "language_info": {
   "codemirror_mode": {
    "name": "ipython",
    "version": 3
   },
   "file_extension": ".py",
   "mimetype": "text/x-python",
   "name": "python",
   "nbconvert_exporter": "python",
   "pygments_lexer": "ipython3",
   "version": "3.9.7"
  }
 },
 "nbformat": 4,
 "nbformat_minor": 5
}
